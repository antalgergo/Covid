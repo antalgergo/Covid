{
 "cells": [
  {
   "cell_type": "markdown",
   "id": "fe9e32a5-cab2-49c9-a6a9-3d0835b1e9ef",
   "metadata": {},
   "source": [
    "# Analyzing COVID RNA Sequences in Python"
   ]
  },
  {
   "cell_type": "markdown",
   "id": "43dacdb0-51a3-4268-8680-de48ae3fe8be",
   "metadata": {},
   "source": [
    "### Introduction"
   ]
  },
  {
   "cell_type": "markdown",
   "id": "5b407572-5408-4a83-9d2d-c0214e5322be",
   "metadata": {},
   "source": [
    "In this project, I am going to download and analyze the data on RNA sequences of COVID in two of its major variants: Delta and Omicron.\n",
    "\n",
    "RNA is a nucleic acid present in any living cell that has one strand consisting of various combinations of four nucleotides: uracil, cytosine, adenine, and guanine. RNA is the \"source code\" for COVID that enables the virus to enter the cell and replicate itself.\n",
    "\n",
    "I'll be using the available data from NIH (National Institutes of Health), the federal government agency in the U.S. Because of its large size (184 MB) you can download from [here](https://drive.google.com/file/d/1S2ZDjdRkY78kZxBtc9YNUh0mByTHXQ23/view)."
   ]
  },
  {
   "cell_type": "code",
   "execution_count": 1,
   "id": "d34ef2fe-5d66-44e2-9037-8ff2b2341e60",
   "metadata": {},
   "outputs": [],
   "source": [
    "import pandas as pd"
   ]
  },
  {
   "cell_type": "code",
   "execution_count": 2,
   "id": "42552b11-43dc-4b7b-b78c-544d7b570d40",
   "metadata": {
    "scrolled": true
   },
   "outputs": [],
   "source": [
    "metadata = pd.read_csv(\"ncbi_datasets.csv\", dtype={\"Isolate Name\": str})"
   ]
  },
  {
   "cell_type": "code",
   "execution_count": 3,
   "id": "3ece8e22-78bc-44a6-8fe6-08d8dc36b8ca",
   "metadata": {},
   "outputs": [
    {
     "data": {
      "text/html": [
       "<div>\n",
       "<style scoped>\n",
       "    .dataframe tbody tr th:only-of-type {\n",
       "        vertical-align: middle;\n",
       "    }\n",
       "\n",
       "    .dataframe tbody tr th {\n",
       "        vertical-align: top;\n",
       "    }\n",
       "\n",
       "    .dataframe thead th {\n",
       "        text-align: right;\n",
       "    }\n",
       "</style>\n",
       "<table border=\"1\" class=\"dataframe\">\n",
       "  <thead>\n",
       "    <tr style=\"text-align: right;\">\n",
       "      <th></th>\n",
       "      <th>Nucleotide Accession</th>\n",
       "      <th>Species Taxonomy Id</th>\n",
       "      <th>Species Name</th>\n",
       "      <th>Virus Genus</th>\n",
       "      <th>Virus Family</th>\n",
       "      <th>Isolate Name</th>\n",
       "      <th>Nucleotide Length</th>\n",
       "      <th>Sequence Type</th>\n",
       "      <th>Nuc Completeness</th>\n",
       "      <th>Geo Location</th>\n",
       "      <th>US State</th>\n",
       "      <th>Host Name</th>\n",
       "      <th>Host Taxonomy ID</th>\n",
       "      <th>Collection Date</th>\n",
       "      <th>BioProject</th>\n",
       "      <th>BioSample</th>\n",
       "    </tr>\n",
       "  </thead>\n",
       "  <tbody>\n",
       "    <tr>\n",
       "      <th>0</th>\n",
       "      <td>NC_045512.2</td>\n",
       "      <td>2697049</td>\n",
       "      <td>Severe acute respiratory syndrome coronavirus 2</td>\n",
       "      <td>Betacoronavirus</td>\n",
       "      <td>Coronaviridae</td>\n",
       "      <td>Wuhan-Hu-1</td>\n",
       "      <td>29903</td>\n",
       "      <td>RefSeq</td>\n",
       "      <td>complete</td>\n",
       "      <td>Asia; China</td>\n",
       "      <td>NaN</td>\n",
       "      <td>NaN</td>\n",
       "      <td>9606</td>\n",
       "      <td>2019-12</td>\n",
       "      <td>PRJNA485481</td>\n",
       "      <td>NaN</td>\n",
       "    </tr>\n",
       "    <tr>\n",
       "      <th>1</th>\n",
       "      <td>OM487257.1</td>\n",
       "      <td>2697049</td>\n",
       "      <td>Severe acute respiratory syndrome coronavirus 2</td>\n",
       "      <td>Betacoronavirus</td>\n",
       "      <td>Coronaviridae</td>\n",
       "      <td>SARS-CoV-2/human/USA/UT-UPHL-220129247957/2021</td>\n",
       "      <td>29815</td>\n",
       "      <td>GenBank</td>\n",
       "      <td>complete</td>\n",
       "      <td>North America; USA</td>\n",
       "      <td>NaN</td>\n",
       "      <td>NaN</td>\n",
       "      <td>9606</td>\n",
       "      <td>2021-12-23</td>\n",
       "      <td>PRJNA614995</td>\n",
       "      <td>SAMN25559487</td>\n",
       "    </tr>\n",
       "    <tr>\n",
       "      <th>2</th>\n",
       "      <td>OM403304.1</td>\n",
       "      <td>2697049</td>\n",
       "      <td>Severe acute respiratory syndrome coronavirus 2</td>\n",
       "      <td>Betacoronavirus</td>\n",
       "      <td>Coronaviridae</td>\n",
       "      <td>SARS-CoV-2/human/HKG/VM20001061-2/2020</td>\n",
       "      <td>29870</td>\n",
       "      <td>GenBank</td>\n",
       "      <td>complete</td>\n",
       "      <td>Asia; Hong Kong</td>\n",
       "      <td>NaN</td>\n",
       "      <td>NaN</td>\n",
       "      <td>9606</td>\n",
       "      <td>2020-01-23</td>\n",
       "      <td>NaN</td>\n",
       "      <td>NaN</td>\n",
       "    </tr>\n",
       "    <tr>\n",
       "      <th>3</th>\n",
       "      <td>OM403303.1</td>\n",
       "      <td>2697049</td>\n",
       "      <td>Severe acute respiratory syndrome coronavirus 2</td>\n",
       "      <td>Betacoronavirus</td>\n",
       "      <td>Coronaviridae</td>\n",
       "      <td>SARS-CoV-2/human/HKG/Original/2020</td>\n",
       "      <td>29851</td>\n",
       "      <td>GenBank</td>\n",
       "      <td>complete</td>\n",
       "      <td>Asia; Hong Kong</td>\n",
       "      <td>NaN</td>\n",
       "      <td>NaN</td>\n",
       "      <td>9606</td>\n",
       "      <td>2020-01-23</td>\n",
       "      <td>NaN</td>\n",
       "      <td>NaN</td>\n",
       "    </tr>\n",
       "    <tr>\n",
       "      <th>4</th>\n",
       "      <td>OM401120.1</td>\n",
       "      <td>2697049</td>\n",
       "      <td>Severe acute respiratory syndrome coronavirus 2</td>\n",
       "      <td>Betacoronavirus</td>\n",
       "      <td>Coronaviridae</td>\n",
       "      <td>SARS-CoV-2/human/USA/UT-UPHL-211112790633/2021</td>\n",
       "      <td>29712</td>\n",
       "      <td>GenBank</td>\n",
       "      <td>complete</td>\n",
       "      <td>North America; USA</td>\n",
       "      <td>NaN</td>\n",
       "      <td>NaN</td>\n",
       "      <td>9606</td>\n",
       "      <td>2021-09-25</td>\n",
       "      <td>PRJNA614995</td>\n",
       "      <td>SAMN23427251</td>\n",
       "    </tr>\n",
       "  </tbody>\n",
       "</table>\n",
       "</div>"
      ],
      "text/plain": [
       "  Nucleotide Accession  Species Taxonomy Id  \\\n",
       "0          NC_045512.2              2697049   \n",
       "1           OM487257.1              2697049   \n",
       "2           OM403304.1              2697049   \n",
       "3           OM403303.1              2697049   \n",
       "4           OM401120.1              2697049   \n",
       "\n",
       "                                      Species Name      Virus Genus  \\\n",
       "0  Severe acute respiratory syndrome coronavirus 2  Betacoronavirus   \n",
       "1  Severe acute respiratory syndrome coronavirus 2  Betacoronavirus   \n",
       "2  Severe acute respiratory syndrome coronavirus 2  Betacoronavirus   \n",
       "3  Severe acute respiratory syndrome coronavirus 2  Betacoronavirus   \n",
       "4  Severe acute respiratory syndrome coronavirus 2  Betacoronavirus   \n",
       "\n",
       "    Virus Family                                    Isolate Name  \\\n",
       "0  Coronaviridae                                      Wuhan-Hu-1   \n",
       "1  Coronaviridae  SARS-CoV-2/human/USA/UT-UPHL-220129247957/2021   \n",
       "2  Coronaviridae          SARS-CoV-2/human/HKG/VM20001061-2/2020   \n",
       "3  Coronaviridae              SARS-CoV-2/human/HKG/Original/2020   \n",
       "4  Coronaviridae  SARS-CoV-2/human/USA/UT-UPHL-211112790633/2021   \n",
       "\n",
       "   Nucleotide Length Sequence Type Nuc Completeness        Geo Location  \\\n",
       "0              29903        RefSeq         complete         Asia; China   \n",
       "1              29815       GenBank         complete  North America; USA   \n",
       "2              29870       GenBank         complete     Asia; Hong Kong   \n",
       "3              29851       GenBank         complete     Asia; Hong Kong   \n",
       "4              29712       GenBank         complete  North America; USA   \n",
       "\n",
       "   US State  Host Name  Host Taxonomy ID Collection Date   BioProject  \\\n",
       "0       NaN        NaN              9606         2019-12  PRJNA485481   \n",
       "1       NaN        NaN              9606      2021-12-23  PRJNA614995   \n",
       "2       NaN        NaN              9606      2020-01-23          NaN   \n",
       "3       NaN        NaN              9606      2020-01-23          NaN   \n",
       "4       NaN        NaN              9606      2021-09-25  PRJNA614995   \n",
       "\n",
       "      BioSample  \n",
       "0           NaN  \n",
       "1  SAMN25559487  \n",
       "2           NaN  \n",
       "3           NaN  \n",
       "4  SAMN23427251  "
      ]
     },
     "execution_count": 3,
     "metadata": {},
     "output_type": "execute_result"
    }
   ],
   "source": [
    "metadata.head()"
   ]
  },
  {
   "cell_type": "code",
   "execution_count": 4,
   "id": "0754e9f8-b2dc-4f22-85b1-8bd6b6906543",
   "metadata": {},
   "outputs": [
    {
     "name": "stdout",
     "output_type": "stream",
     "text": [
      "It have 847791 rows and 16 columns.\n"
     ]
    }
   ],
   "source": [
    "print(f\"It have {metadata.shape[0]} rows and {metadata.shape[1]} columns.\")"
   ]
  },
  {
   "cell_type": "code",
   "execution_count": 5,
   "id": "ad5764f8-31a6-4ec6-baf5-a7af1672c052",
   "metadata": {},
   "outputs": [
    {
     "name": "stdout",
     "output_type": "stream",
     "text": [
      "<class 'pandas.core.frame.DataFrame'>\n",
      "RangeIndex: 847791 entries, 0 to 847790\n",
      "Data columns (total 16 columns):\n",
      " #   Column                Non-Null Count   Dtype  \n",
      "---  ------                --------------   -----  \n",
      " 0   Nucleotide Accession  847791 non-null  object \n",
      " 1   Species Taxonomy Id   847791 non-null  int64  \n",
      " 2   Species Name          847791 non-null  object \n",
      " 3   Virus Genus           847791 non-null  object \n",
      " 4   Virus Family          847791 non-null  object \n",
      " 5   Isolate Name          609653 non-null  object \n",
      " 6   Nucleotide Length     847791 non-null  int64  \n",
      " 7   Sequence Type         847791 non-null  object \n",
      " 8   Nuc Completeness      847791 non-null  object \n",
      " 9   Geo Location          847720 non-null  object \n",
      " 10  US State              0 non-null       float64\n",
      " 11  Host Name             0 non-null       float64\n",
      " 12  Host Taxonomy ID      847791 non-null  int64  \n",
      " 13  Collection Date       847595 non-null  object \n",
      " 14  BioProject            611783 non-null  object \n",
      " 15  BioSample             590586 non-null  object \n",
      "dtypes: float64(2), int64(3), object(11)\n",
      "memory usage: 103.5+ MB\n"
     ]
    }
   ],
   "source": [
    "metadata.info()"
   ]
  },
  {
   "cell_type": "code",
   "execution_count": 6,
   "id": "dd8ba1b4-9269-4651-893d-7a53338fd1c5",
   "metadata": {},
   "outputs": [],
   "source": [
    "metadata[\"Collection Date\"] = metadata[\"Collection Date\"].astype(\"datetime64[ns]\")"
   ]
  },
  {
   "cell_type": "markdown",
   "id": "c06bee90-d36b-430c-a570-f90ab1d45bad",
   "metadata": {},
   "source": [
    "### EDA"
   ]
  },
  {
   "cell_type": "markdown",
   "id": "277565c4-03f2-4aba-98dc-13cc8d38311a",
   "metadata": {},
   "source": [
    "After I have loaded the data and have taken some quick explore about data structure I will make some exploratory data analysis and answer the following questions:\n",
    "\n",
    "1) When was the first COVID RNA sequence collected on each continent?\n",
    "2) How many sequences were collected on each continent?\n",
    "3) How long are the shortest and longest sequences?\n",
    "4) How many samples were collected by month? Are there any trends?"
   ]
  },
  {
   "cell_type": "markdown",
   "id": "4d6a1abc-4498-459a-b8a5-18faccdd109c",
   "metadata": {},
   "source": [
    "1) When was the first COVID RNA sequence collected on each continent?"
   ]
  },
  {
   "cell_type": "code",
   "execution_count": 7,
   "id": "c8c779f9-15e8-4282-8cf3-ae4401fa04b5",
   "metadata": {},
   "outputs": [],
   "source": [
    "metadata[\"Continent\"] = metadata[\"Geo Location\"].str.split(\";\").str[0] # creating a new column for determine the continents"
   ]
  },
  {
   "cell_type": "code",
   "execution_count": 8,
   "id": "b118450f-1e3f-4c86-92e9-3177ac461d4d",
   "metadata": {},
   "outputs": [
    {
     "data": {
      "text/plain": [
       "array(['Asia', 'North America', 'Africa', 'Oceania', 'Europe',\n",
       "       'South America', nan], dtype=object)"
      ]
     },
     "execution_count": 8,
     "metadata": {},
     "output_type": "execute_result"
    }
   ],
   "source": [
    "metadata[\"Continent\"].unique()"
   ]
  },
  {
   "cell_type": "code",
   "execution_count": 9,
   "id": "60de8d84-7014-47e9-9847-473e7e511891",
   "metadata": {},
   "outputs": [],
   "source": [
    "first_collection_by_continent = metadata.sort_values(\"Collection Date\").groupby(\"Continent\").first()[\"Collection Date\"]"
   ]
  },
  {
   "cell_type": "code",
   "execution_count": 10,
   "id": "d539734a-9232-4bbd-8f24-b451f0de8442",
   "metadata": {},
   "outputs": [
    {
     "data": {
      "text/plain": [
       "Continent\n",
       "Africa          2020-02-06\n",
       "Asia            2019-12-01\n",
       "Europe          2020-01-01\n",
       "North America   2020-01-01\n",
       "Oceania         2020-01-01\n",
       "South America   2020-01-01\n",
       "Name: Collection Date, dtype: datetime64[ns]"
      ]
     },
     "execution_count": 10,
     "metadata": {},
     "output_type": "execute_result"
    }
   ],
   "source": [
    "first_collection_by_continent"
   ]
  },
  {
   "cell_type": "markdown",
   "id": "3cf9c4a6-30af-4d25-a4db-d8f1702db434",
   "metadata": {},
   "source": [
    "2. How many sequences were collected on each continent?"
   ]
  },
  {
   "cell_type": "code",
   "execution_count": 11,
   "id": "a6c7b704-a371-49c0-ac87-d5e2dd8aa7af",
   "metadata": {},
   "outputs": [],
   "source": [
    "sequences_by_continent = metadata.groupby(\"Continent\").count()[\"Species Name\"]"
   ]
  },
  {
   "cell_type": "code",
   "execution_count": 12,
   "id": "3243d94a-7d26-4863-b3aa-323243e9ec30",
   "metadata": {},
   "outputs": [
    {
     "data": {
      "text/plain": [
       "Continent\n",
       "Africa             2192\n",
       "Asia               8581\n",
       "Europe           254520\n",
       "North America    571069\n",
       "Oceania           10603\n",
       "South America       755\n",
       "Name: Species Name, dtype: int64"
      ]
     },
     "execution_count": 12,
     "metadata": {},
     "output_type": "execute_result"
    }
   ],
   "source": [
    "sequences_by_continent"
   ]
  },
  {
   "cell_type": "code",
   "execution_count": 13,
   "id": "cb4f7dfc-39f3-4e75-ada4-a0ca1f8a59a7",
   "metadata": {},
   "outputs": [
    {
     "data": {
      "image/png": "[encoded data removed]",
      "text/plain": [
       "<Figure size 640x480 with 1 Axes>"
      ]
     },
     "metadata": {},
     "output_type": "display_data"
    }
   ],
   "source": [
    "import matplotlib.pyplot as plt\n",
    "\n",
    "\n",
    "sequences_by_continent.sort_values().plot(kind=\"barh\")\n",
    "\n",
    "plt.title(\"Number of sample by Months\")\n",
    "plt.xlabel(\"Samples\")\n",
    "plt.ylabel(\"Continent\")\n",
    "\n",
    "plt.show()"
   ]
  },
  {
   "cell_type": "markdown",
   "id": "7631f02c-38bc-448d-b01a-da04cb13f922",
   "metadata": {},
   "source": [
    "3. How long are the shortest and longest sequences? Look at the outliers, if any, to estimate their representation."
   ]
  },
  {
   "cell_type": "code",
   "execution_count": 14,
   "id": "9d657384-8aa8-438f-b1d6-a20f78598f69",
   "metadata": {},
   "outputs": [
    {
     "name": "stdout",
     "output_type": "stream",
     "text": [
      "The shortest sequence is 2859 and the longest one is 30018\n"
     ]
    }
   ],
   "source": [
    "print(f\"The shortest sequence is {metadata[\"Nucleotide Length\"].min()} and the longest one is {metadata[\"Nucleotide Length\"].max()}\")"
   ]
  },
  {
   "cell_type": "markdown",
   "id": "9c63c46a-933a-480b-a43d-6b1ea2d1101e",
   "metadata": {},
   "source": [
    "4. How many samples were collected by month? Are there any trends?"
   ]
  },
  {
   "cell_type": "code",
   "execution_count": 15,
   "id": "0210df92-a564-45f3-87ee-7b652b5a1169",
   "metadata": {},
   "outputs": [],
   "source": [
    "metadata[\"Month\"] = metadata[\"Collection Date\"].dt.month\n",
    "metadata[\"Month\"] = metadata[\"Month\"].replace({1: \"Jan\", 2: \"Feb\", 3: \"Mar\", 4: \"Apr\", 5: \"Maj\", 6: \"Jun\", 7: \"Jul\", 8: \"Aug\", 9: \"Sep\", 10: \"Oct\", 11: \"Nov\", 12: \"Dec\"})\n",
    "\n",
    "samples_by_month = metadata.groupby(\"Month\").count()"
   ]
  },
  {
   "cell_type": "code",
   "execution_count": 16,
   "id": "5492cb18-e933-45f4-aa14-c4bd7e558c14",
   "metadata": {},
   "outputs": [
    {
     "data": {
      "text/plain": [
       "Month\n",
       "Dec    166663\n",
       "Jan    159594\n",
       "Nov    131534\n",
       "Apr     82710\n",
       "Mar     61238\n",
       "Maj     46338\n",
       "Feb     45399\n",
       "Oct     38341\n",
       "Jul     33896\n",
       "Jun     30500\n",
       "Sep     28268\n",
       "Aug     23114\n",
       "Name: Species Name, dtype: int64"
      ]
     },
     "execution_count": 16,
     "metadata": {},
     "output_type": "execute_result"
    }
   ],
   "source": [
    "samples_by_month[\"Species Name\"].sort_values(ascending=False)"
   ]
  },
  {
   "cell_type": "code",
   "execution_count": 17,
   "id": "6b5c5e20-43e4-47c6-a0d6-b9b9c9608db8",
   "metadata": {},
   "outputs": [],
   "source": [
    "order_by_month = samples_by_month[\"Species Name\"].reindex(index=[\"Jan\", \"Feb\", \"Mar\", \"Apr\", \"Maj\", \"Jun\", \"Jul\", \"Aug\", \"Sep\", \"Oct\", \"Nov\", \"Dec\"])"
   ]
  },
  {
   "cell_type": "code",
   "execution_count": 18,
   "id": "6e4338d0-2b02-4582-a1e5-454e193fde4e",
   "metadata": {},
   "outputs": [
    {
     "data": {
      "image/png": "[encoded data removed]",
      "text/plain": [
       "<Figure size 640x480 with 1 Axes>"
      ]
     },
     "metadata": {},
     "output_type": "display_data"
    }
   ],
   "source": [
    "order_by_month.plot(kind=\"bar\")\n",
    "\n",
    "plt.title(\"Number of sample by Months\")\n",
    "plt.ylabel(\"Samples\")\n",
    "\n",
    "plt.show()"
   ]
  },
  {
   "cell_type": "markdown",
   "id": "697a556d-9214-4963-80a2-74c95f19e775",
   "metadata": {},
   "source": [
    "According to the aggregated data and the diagram, we can see that in mainly winter months there is a higher number of samples. It coincides with the time of respiratory infectious diseases."
   ]
  },
  {
   "cell_type": "markdown",
   "id": "06b36ec6-e1a1-42b8-9bfc-66a798ede98b",
   "metadata": {},
   "source": [
    "### Identifying Sequences to Download"
   ]
  },
  {
   "cell_type": "markdown",
   "id": "650a3c15-068d-41b4-a0b8-071c2f7dc6cc",
   "metadata": {},
   "source": [
    "Now I am going to identify some sequences based on the following ones:\n",
    "- The `reference` sequence: the first COVID genome that was fully sequenced.\n",
    "- A `base` sequence: for example, the first sequence for North America.\n",
    "- One of the `Delta` sequences (one of the most common COVID variants).\n",
    "- One of the `Omicron` sequences (another common COVID variant)."
   ]
  },
  {
   "cell_type": "code",
   "execution_count": 19,
   "id": "b451acff-d7c8-40c4-91db-81b92abfa2b0",
   "metadata": {},
   "outputs": [],
   "source": [
    "# Detecting the above-listed COVID sequences in the metadata\n",
    "\n",
    "reference = metadata[metadata[\"Sequence Type\"] == \"RefSeq\"]\n",
    "base = metadata[metadata[\"Continent\"] == \"North America\"].sort_values(\"Collection Date\").head(1)\n",
    "delta = metadata[metadata[\"Isolate Name\"].fillna(\"NA\").str.contains(\"delta\", case=False)].head(1) # contains method doesn't work with N/A values\n",
    "omicron = metadata[metadata[\"Isolate Name\"].fillna(\"NA\").str.contains(\"omicron\", case=False)].head(1)"
   ]
  },
  {
   "cell_type": "code",
   "execution_count": 20,
   "id": "8e6b9fbd-da71-47d1-85d0-01481977671f",
   "metadata": {},
   "outputs": [],
   "source": [
    "# Pulling out their metadata as a new pandas DataFrame.\n",
    "\n",
    "sequences = pd.concat([reference, base, delta, omicron], ignore_index=True, axis=0)"
   ]
  },
  {
   "cell_type": "code",
   "execution_count": 21,
   "id": "7bbfe34f-0003-4937-92bc-0530fee2351b",
   "metadata": {},
   "outputs": [
    {
     "data": {
      "text/html": [
       "<div>\n",
       "<style scoped>\n",
       "    .dataframe tbody tr th:only-of-type {\n",
       "        vertical-align: middle;\n",
       "    }\n",
       "\n",
       "    .dataframe tbody tr th {\n",
       "        vertical-align: top;\n",
       "    }\n",
       "\n",
       "    .dataframe thead th {\n",
       "        text-align: right;\n",
       "    }\n",
       "</style>\n",
       "<table border=\"1\" class=\"dataframe\">\n",
       "  <thead>\n",
       "    <tr style=\"text-align: right;\">\n",
       "      <th></th>\n",
       "      <th>Nucleotide Accession</th>\n",
       "      <th>Species Taxonomy Id</th>\n",
       "      <th>Species Name</th>\n",
       "      <th>Virus Genus</th>\n",
       "      <th>Virus Family</th>\n",
       "      <th>Isolate Name</th>\n",
       "      <th>Nucleotide Length</th>\n",
       "      <th>Sequence Type</th>\n",
       "      <th>Nuc Completeness</th>\n",
       "      <th>Geo Location</th>\n",
       "      <th>US State</th>\n",
       "      <th>Host Name</th>\n",
       "      <th>Host Taxonomy ID</th>\n",
       "      <th>Collection Date</th>\n",
       "      <th>BioProject</th>\n",
       "      <th>BioSample</th>\n",
       "      <th>Continent</th>\n",
       "      <th>Month</th>\n",
       "    </tr>\n",
       "  </thead>\n",
       "  <tbody>\n",
       "    <tr>\n",
       "      <th>0</th>\n",
       "      <td>NC_045512.2</td>\n",
       "      <td>2697049</td>\n",
       "      <td>Severe acute respiratory syndrome coronavirus 2</td>\n",
       "      <td>Betacoronavirus</td>\n",
       "      <td>Coronaviridae</td>\n",
       "      <td>Wuhan-Hu-1</td>\n",
       "      <td>29903</td>\n",
       "      <td>RefSeq</td>\n",
       "      <td>complete</td>\n",
       "      <td>Asia; China</td>\n",
       "      <td>NaN</td>\n",
       "      <td>NaN</td>\n",
       "      <td>9606</td>\n",
       "      <td>2019-12-01</td>\n",
       "      <td>PRJNA485481</td>\n",
       "      <td>NaN</td>\n",
       "      <td>Asia</td>\n",
       "      <td>Dec</td>\n",
       "    </tr>\n",
       "    <tr>\n",
       "      <th>1</th>\n",
       "      <td>OL467832.1</td>\n",
       "      <td>2697049</td>\n",
       "      <td>Severe acute respiratory syndrome coronavirus 2</td>\n",
       "      <td>Betacoronavirus</td>\n",
       "      <td>Coronaviridae</td>\n",
       "      <td>SARS-CoV-2/human/USA/hCoV_19_USA_ID_IVREF_6520...</td>\n",
       "      <td>29831</td>\n",
       "      <td>GenBank</td>\n",
       "      <td>complete</td>\n",
       "      <td>North America; USA: Bingham, ID</td>\n",
       "      <td>NaN</td>\n",
       "      <td>NaN</td>\n",
       "      <td>9606</td>\n",
       "      <td>2020-01-01</td>\n",
       "      <td>NaN</td>\n",
       "      <td>NaN</td>\n",
       "      <td>North America</td>\n",
       "      <td>Jan</td>\n",
       "    </tr>\n",
       "    <tr>\n",
       "      <th>2</th>\n",
       "      <td>OM108163.1</td>\n",
       "      <td>2697049</td>\n",
       "      <td>Severe acute respiratory syndrome coronavirus 2</td>\n",
       "      <td>Betacoronavirus</td>\n",
       "      <td>Coronaviridae</td>\n",
       "      <td>SARS-CoV-2/human/CHN/Delta-3/2021</td>\n",
       "      <td>29860</td>\n",
       "      <td>GenBank</td>\n",
       "      <td>complete</td>\n",
       "      <td>Asia; China: Beijing</td>\n",
       "      <td>NaN</td>\n",
       "      <td>NaN</td>\n",
       "      <td>9606</td>\n",
       "      <td>2021-08-14</td>\n",
       "      <td>NaN</td>\n",
       "      <td>NaN</td>\n",
       "      <td>Asia</td>\n",
       "      <td>Aug</td>\n",
       "    </tr>\n",
       "    <tr>\n",
       "      <th>3</th>\n",
       "      <td>OM095411.1</td>\n",
       "      <td>2697049</td>\n",
       "      <td>Severe acute respiratory syndrome coronavirus 2</td>\n",
       "      <td>Betacoronavirus</td>\n",
       "      <td>Coronaviridae</td>\n",
       "      <td>SARS-CoV-2/human/CHN/Omicron-1/2021</td>\n",
       "      <td>29788</td>\n",
       "      <td>GenBank</td>\n",
       "      <td>complete</td>\n",
       "      <td>Asia; China: Beijing</td>\n",
       "      <td>NaN</td>\n",
       "      <td>NaN</td>\n",
       "      <td>9606</td>\n",
       "      <td>2021-12-08</td>\n",
       "      <td>NaN</td>\n",
       "      <td>NaN</td>\n",
       "      <td>Asia</td>\n",
       "      <td>Dec</td>\n",
       "    </tr>\n",
       "  </tbody>\n",
       "</table>\n",
       "</div>"
      ],
      "text/plain": [
       "  Nucleotide Accession  Species Taxonomy Id  \\\n",
       "0          NC_045512.2              2697049   \n",
       "1           OL467832.1              2697049   \n",
       "2           OM108163.1              2697049   \n",
       "3           OM095411.1              2697049   \n",
       "\n",
       "                                      Species Name      Virus Genus  \\\n",
       "0  Severe acute respiratory syndrome coronavirus 2  Betacoronavirus   \n",
       "1  Severe acute respiratory syndrome coronavirus 2  Betacoronavirus   \n",
       "2  Severe acute respiratory syndrome coronavirus 2  Betacoronavirus   \n",
       "3  Severe acute respiratory syndrome coronavirus 2  Betacoronavirus   \n",
       "\n",
       "    Virus Family                                       Isolate Name  \\\n",
       "0  Coronaviridae                                         Wuhan-Hu-1   \n",
       "1  Coronaviridae  SARS-CoV-2/human/USA/hCoV_19_USA_ID_IVREF_6520...   \n",
       "2  Coronaviridae                  SARS-CoV-2/human/CHN/Delta-3/2021   \n",
       "3  Coronaviridae                SARS-CoV-2/human/CHN/Omicron-1/2021   \n",
       "\n",
       "   Nucleotide Length Sequence Type Nuc Completeness  \\\n",
       "0              29903        RefSeq         complete   \n",
       "1              29831       GenBank         complete   \n",
       "2              29860       GenBank         complete   \n",
       "3              29788       GenBank         complete   \n",
       "\n",
       "                      Geo Location  US State  Host Name  Host Taxonomy ID  \\\n",
       "0                      Asia; China       NaN        NaN              9606   \n",
       "1  North America; USA: Bingham, ID       NaN        NaN              9606   \n",
       "2             Asia; China: Beijing       NaN        NaN              9606   \n",
       "3             Asia; China: Beijing       NaN        NaN              9606   \n",
       "\n",
       "  Collection Date   BioProject BioSample      Continent Month  \n",
       "0      2019-12-01  PRJNA485481       NaN           Asia   Dec  \n",
       "1      2020-01-01          NaN       NaN  North America   Jan  \n",
       "2      2021-08-14          NaN       NaN           Asia   Aug  \n",
       "3      2021-12-08          NaN       NaN           Asia   Dec  "
      ]
     },
     "execution_count": 21,
     "metadata": {},
     "output_type": "execute_result"
    }
   ],
   "source": [
    "sequences"
   ]
  },
  {
   "cell_type": "markdown",
   "id": "8c586fba-e0eb-4342-a8ff-3a83c20dbdfb",
   "metadata": {},
   "source": [
    "### Downloading the Sequences"
   ]
  },
  {
   "cell_type": "markdown",
   "id": "82ed887e-217a-49a0-9e00-f0fb34e14b98",
   "metadata": {},
   "source": [
    "Next, I am going to download the actual nucleotide sequence for each of the selected COVID RNA sequences. For this, I will use a Python library called `Biopython`"
   ]
  },
  {
   "cell_type": "code",
   "execution_count": 22,
   "id": "280a88d1-5908-4e17-bf5c-4a7e8cb8497f",
   "metadata": {},
   "outputs": [],
   "source": [
    "from Bio import Entrez\n",
    "from dotenv import load_dotenv\n",
    "import os\n",
    "import time"
   ]
  },
  {
   "cell_type": "code",
   "execution_count": 23,
   "id": "b16662b3-2d16-486d-9730-97f35309fbe7",
   "metadata": {},
   "outputs": [],
   "source": [
    "# Setting email for web request from NCBI with environment variable to hidding address\n",
    "\n",
    "load_dotenv()\n",
    "Entrez.email = os.getenv(\"EMAIL\")"
   ]
  },
  {
   "cell_type": "code",
   "execution_count": 24,
   "id": "4d8774ac-a23c-4d4f-9a33-f9ea290566f1",
   "metadata": {},
   "outputs": [],
   "source": [
    "def download_sequence(accession_number):\n",
    "    handle = Entrez.efetch(db=\"nucleotide\", id=accession_number, rettype=\"fasta\", retmode=\"text\") # web request\n",
    "    sequence_data = handle.read()\n",
    "    handle.close()\n",
    "\n",
    "    return sequence_data # the actual nucleotide sequence"
   ]
  },
  {
   "cell_type": "code",
   "execution_count": 25,
   "id": "9dbb7cbc-38f0-47c3-8e46-2af9a22272f3",
   "metadata": {},
   "outputs": [
    {
     "name": "stdout",
     "output_type": "stream",
     "text": [
      "Downloading data...\n",
      "(1/4) downloaded\n",
      "(2/4) downloaded\n",
      "(3/4) downloaded\n",
      "(4/4) downloaded\n",
      "Completed\n"
     ]
    }
   ],
   "source": [
    "sequence_data = {}\n",
    "index = [\"reference\", \"base\", \"delta\", \"omicron\"]\n",
    "\n",
    "print(\"Downloading data...\")\n",
    "\n",
    "counter = 0\n",
    "for i, sequence in zip(index, sequences.values.tolist()):\n",
    "    ID = sequence[0] # First column is the Accession ID\n",
    "    sequence_data[i] = download_sequence(ID)\n",
    "    counter += 1\n",
    "    print(f\"({counter}/{sequences.shape[0]}) downloaded\")\n",
    "    time.sleep(0.4) # Only 3 queries per second are allowed without API key\n",
    "\n",
    "print(\"Completed\")"
   ]
  },
  {
   "cell_type": "markdown",
   "id": "172a89c7-2f0c-4f0c-af10-bd059b63b544",
   "metadata": {},
   "source": [
    "### Parsing RNA Sequence"
   ]
  },
  {
   "cell_type": "markdown",
   "id": "4d0b0436-23d2-42b2-91a8-bcd40324b7f7",
   "metadata": {},
   "source": [
    "I will extract the actual genomic sequence from Fasta format into a more readable format for further analysis."
   ]
  },
  {
   "cell_type": "code",
   "execution_count": 26,
   "id": "3732e19d-f7f9-4576-9155-f8b136cc2f5b",
   "metadata": {},
   "outputs": [],
   "source": [
    "from Bio import SeqIO\n",
    "import io"
   ]
  },
  {
   "cell_type": "code",
   "execution_count": 27,
   "id": "30f6488f-c20b-40aa-8df9-ad345a0d1120",
   "metadata": {},
   "outputs": [],
   "source": [
    "# Iterating over the sequences that identified earlier and creating a file object then parsing it into a readable format\n",
    "\n",
    "for sequence_type in sequence_data.keys():\n",
    "    filename = f\"./sequence_files/{sequence_type}.fasta\"\n",
    "    \n",
    "    with open(filename, \"w\") as file:\n",
    "        file.write(sequence_data[sequence_type])\n",
    "\n",
    "    record = list(SeqIO.parse(filename, \"fasta\"))\n",
    "\n",
    "    sequence_data[sequence_type] = record # Changing the Fasta format to a list that contains the ID, Description and Sequence in the dictionary"
   ]
  },
  {
   "cell_type": "code",
   "execution_count": 28,
   "id": "030647c0-b1da-41e1-965b-351799e65bd4",
   "metadata": {
    "scrolled": true
   },
   "outputs": [
    {
     "data": {
      "text/plain": [
       "{'reference': [SeqRecord(seq=Seq('ATTAAAGGTTTATACCTTCCCAGGTAACAAACCAACCAACTTTCGATCTCTTGT...AAA'), id='NC_045512.2', name='NC_045512.2', description='NC_045512.2 Severe acute respiratory syndrome coronavirus 2 isolate Wuhan-Hu-1, complete genome', dbxrefs=[])],\n",
       " 'base': [SeqRecord(seq=Seq('ACCAACCAACTTTCGATCTCTTGTAGATCTGTTCTCTAAACGAACTTTAAAATC...TAG'), id='OL467832.1', name='OL467832.1', description='OL467832.1 Severe acute respiratory syndrome coronavirus 2 isolate SARS-CoV-2/human/USA/hCoV_19_USA_ID_IVREF_652092_2020/2020, complete genome', dbxrefs=[])],\n",
       " 'delta': [SeqRecord(seq=Seq('ATTAAAGGTTTATACCTTCCCAGGTAACAAACCAACCAACTTTCGATCTCTTGT...AAA'), id='OM108163.1', name='OM108163.1', description='OM108163.1 Severe acute respiratory syndrome coronavirus 2 isolate SARS-CoV-2/human/CHN/Delta-3/2021, complete genome', dbxrefs=[])],\n",
       " 'omicron': [SeqRecord(seq=Seq('CAACTTTCGATCTCTTGTAGATCTGTTCTCTAAACGAACTTTAAAATCTGTGTG...AGC'), id='OM095411.1', name='OM095411.1', description='OM095411.1 Severe acute respiratory syndrome coronavirus 2 isolate SARS-CoV-2/human/CHN/Omicron-1/2021, complete genome', dbxrefs=[])]}"
      ]
     },
     "execution_count": 28,
     "metadata": {},
     "output_type": "execute_result"
    }
   ],
   "source": [
    "sequence_data # Checking the new structure of dictionary"
   ]
  },
  {
   "cell_type": "markdown",
   "id": "4773bd81-4c5b-4c4c-83a1-f5fe67949da6",
   "metadata": {},
   "source": [
    "### Aligning RNA Sequences"
   ]
  },
  {
   "cell_type": "markdown",
   "id": "67158ee4-69bd-4d87-ac74-92c70ce51aa3",
   "metadata": {},
   "source": [
    "I need to determine the difference between the sequences. For this purpose, I'm going to use an alignment algorithm from `Biopython`, calculate the alignment score between the sequences, and draw conclusions about the difference between them."
   ]
  },
  {
   "cell_type": "code",
   "execution_count": 29,
   "id": "b3ac2525-c418-4b1e-939e-ed4ff06d4828",
   "metadata": {},
   "outputs": [],
   "source": [
    "from Bio import Align"
   ]
  },
  {
   "cell_type": "code",
   "execution_count": 30,
   "id": "04105a6e-b0ed-4d44-99db-46057951f13a",
   "metadata": {},
   "outputs": [],
   "source": [
    "aligner = Align.PairwiseAligner(match_score=1.0) # 1 point for matching pairs"
   ]
  },
  {
   "cell_type": "code",
   "execution_count": 31,
   "id": "95bfdd3f-5ad4-496e-8bf9-d66f209bdf02",
   "metadata": {},
   "outputs": [
    {
     "name": "stdout",
     "output_type": "stream",
     "text": [
      "The alignment score (number of matching) between reference sequence and\n",
      "\n",
      "base is: 29820.0 (99.72% matching)\n",
      "delta is: 29820.0 (99.72% matching)\n",
      "omicron is: 29725.0 (99.4% matching)\n"
     ]
    }
   ],
   "source": [
    "reference_sequence = str(sequence_data[\"reference\"][0].seq)\n",
    "target_sequences = [\"base\", \"delta\", \"omicron\"]\n",
    "\n",
    "print(\"The alignment score (number of matching) between reference sequence and\\n\")\n",
    "for target in target_sequences:\n",
    "    score = aligner.score(reference_sequence, str(sequence_data[target][0].seq))\n",
    "    ratio = round((score / len(reference_sequence)) * 100, 2)\n",
    "    \n",
    "    print(f\"{target} is: {score} ({ratio}% matching)\")"
   ]
  },
  {
   "cell_type": "markdown",
   "id": "4943e915-6f9d-4edf-820d-85d35c6c2416",
   "metadata": {},
   "source": [
    "As we can see both the base sequence and variant Delta are matching with reference one in 99,72% but there are further mutation in variant Omicron."
   ]
  },
  {
   "cell_type": "markdown",
   "id": "cdf30ff6-0f3a-4e85-bede-de40fc7fba4d",
   "metadata": {},
   "source": [
    "### Checking Alignment Across Variants"
   ]
  },
  {
   "cell_type": "markdown",
   "id": "f915b5c0-bd36-4da0-87c1-93a89c021fd0",
   "metadata": {},
   "source": [
    "Now, I will compare them in pairwise."
   ]
  },
  {
   "cell_type": "code",
   "execution_count": 32,
   "id": "c1723524-f1ad-448f-9b5c-ce2fb0a1d72c",
   "metadata": {},
   "outputs": [],
   "source": [
    "import numpy as np"
   ]
  },
  {
   "cell_type": "code",
   "execution_count": 35,
   "id": "1be5e17e-e0a7-427d-a1e6-febbf94fb601",
   "metadata": {},
   "outputs": [],
   "source": [
    "comparison_matrix = np.zeros((4, 4))"
   ]
  },
  {
   "cell_type": "code",
   "execution_count": 36,
   "id": "a47260f0-5d95-45f5-bae1-cb7c17638e5f",
   "metadata": {},
   "outputs": [
    {
     "data": {
      "text/plain": [
       "array([[0., 0., 0., 0.],\n",
       "       [0., 0., 0., 0.],\n",
       "       [0., 0., 0., 0.],\n",
       "       [0., 0., 0., 0.]])"
      ]
     },
     "execution_count": 36,
     "metadata": {},
     "output_type": "execute_result"
    }
   ],
   "source": [
    "comparison_matrix"
   ]
  },
  {
   "cell_type": "code",
   "execution_count": 44,
   "id": "30d9c51f-7a54-405f-bd8c-a9b37a204ffc",
   "metadata": {},
   "outputs": [],
   "source": [
    "variant_names = [\"reference\", \"base\", \"delta\", \"omicron\"]\n",
    "\n",
    "for x in range(4):\n",
    "    for y in range(4):\n",
    "        target = str(sequence_data[variant_names[x]][0].seq)\n",
    "        query =  str(sequence_data[variant_names[y]][0].seq)\n",
    "        \n",
    "        comparison_matrix[x][y] = aligner.score(target, query)"
   ]
  },
  {
   "cell_type": "code",
   "execution_count": 45,
   "id": "0b8bb6bd-59e3-4506-9555-15e5773b9fdf",
   "metadata": {},
   "outputs": [
    {
     "data": {
      "text/plain": [
       "array([[29903., 29820., 29820., 29725.],\n",
       "       [29820., 29831., 29775., 29722.],\n",
       "       [29820., 29775., 29860., 29690.],\n",
       "       [29725., 29722., 29690., 29788.]])"
      ]
     },
     "execution_count": 45,
     "metadata": {},
     "output_type": "execute_result"
    }
   ],
   "source": [
    "comparison_matrix # This matrix contains the alignment scores across pairwise."
   ]
  },
  {
   "cell_type": "code",
   "execution_count": 46,
   "id": "b709e10f-781d-4def-b258-8d60bd94c570",
   "metadata": {},
   "outputs": [],
   "source": [
    "variant_scores = pd.DataFrame(comparison_matrix, columns=variant_names, index=variant_names)"
   ]
  },
  {
   "cell_type": "code",
   "execution_count": 47,
   "id": "72c663b4-855b-40bf-b33b-dca716434074",
   "metadata": {},
   "outputs": [
    {
     "data": {
      "text/html": [
       "<div>\n",
       "<style scoped>\n",
       "    .dataframe tbody tr th:only-of-type {\n",
       "        vertical-align: middle;\n",
       "    }\n",
       "\n",
       "    .dataframe tbody tr th {\n",
       "        vertical-align: top;\n",
       "    }\n",
       "\n",
       "    .dataframe thead th {\n",
       "        text-align: right;\n",
       "    }\n",
       "</style>\n",
       "<table border=\"1\" class=\"dataframe\">\n",
       "  <thead>\n",
       "    <tr style=\"text-align: right;\">\n",
       "      <th></th>\n",
       "      <th>reference</th>\n",
       "      <th>base</th>\n",
       "      <th>delta</th>\n",
       "      <th>omicron</th>\n",
       "    </tr>\n",
       "  </thead>\n",
       "  <tbody>\n",
       "    <tr>\n",
       "      <th>reference</th>\n",
       "      <td>29903.0</td>\n",
       "      <td>29820.0</td>\n",
       "      <td>29820.0</td>\n",
       "      <td>29725.0</td>\n",
       "    </tr>\n",
       "    <tr>\n",
       "      <th>base</th>\n",
       "      <td>29820.0</td>\n",
       "      <td>29831.0</td>\n",
       "      <td>29775.0</td>\n",
       "      <td>29722.0</td>\n",
       "    </tr>\n",
       "    <tr>\n",
       "      <th>delta</th>\n",
       "      <td>29820.0</td>\n",
       "      <td>29775.0</td>\n",
       "      <td>29860.0</td>\n",
       "      <td>29690.0</td>\n",
       "    </tr>\n",
       "    <tr>\n",
       "      <th>omicron</th>\n",
       "      <td>29725.0</td>\n",
       "      <td>29722.0</td>\n",
       "      <td>29690.0</td>\n",
       "      <td>29788.0</td>\n",
       "    </tr>\n",
       "  </tbody>\n",
       "</table>\n",
       "</div>"
      ],
      "text/plain": [
       "           reference     base    delta  omicron\n",
       "reference    29903.0  29820.0  29820.0  29725.0\n",
       "base         29820.0  29831.0  29775.0  29722.0\n",
       "delta        29820.0  29775.0  29860.0  29690.0\n",
       "omicron      29725.0  29722.0  29690.0  29788.0"
      ]
     },
     "execution_count": 47,
     "metadata": {},
     "output_type": "execute_result"
    }
   ],
   "source": [
    "variant_scores"
   ]
  },
  {
   "cell_type": "markdown",
   "id": "3174bd51-9526-45fa-af01-3e28326c40fd",
   "metadata": {},
   "source": [
    "We can see a decreasing tendency."
   ]
  },
  {
   "cell_type": "code",
   "execution_count": null,
   "id": "cd9a2246-b3e7-4a6d-b34e-44458ab2935b",
   "metadata": {},
   "outputs": [],
   "source": []
  }
 ],
 "metadata": {
  "kernelspec": {
   "display_name": "Portfolio Project - Covid",
   "language": "python",
   "name": "covid"
  },
  "language_info": {
   "codemirror_mode": {
    "name": "ipython",
    "version": 3
   },
   "file_extension": ".py",
   "mimetype": "text/x-python",
   "name": "python",
   "nbconvert_exporter": "python",
   "pygments_lexer": "ipython3",
   "version": "3.12.3"
  }
 },
 "nbformat": 4,
 "nbformat_minor": 5
}
