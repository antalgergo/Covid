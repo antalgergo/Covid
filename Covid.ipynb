{
 "cells": [
  {
   "cell_type": "markdown",
   "id": "fe9e32a5-cab2-49c9-a6a9-3d0835b1e9ef",
   "metadata": {},
   "source": [
    "# Analyzing COVID RNA Sequences in Python"
   ]
  },
  {
   "cell_type": "code",
   "execution_count": null,
   "id": "d34ef2fe-5d66-44e2-9037-8ff2b2341e60",
   "metadata": {},
   "outputs": [],
   "source": []
  }
 ],
 "metadata": {
  "kernelspec": {
   "display_name": "Portfolio Project - Covid",
   "language": "python",
   "name": "covid"
  },
  "language_info": {
   "codemirror_mode": {
    "name": "ipython",
    "version": 3
   },
   "file_extension": ".py",
   "mimetype": "text/x-python",
   "name": "python",
   "nbconvert_exporter": "python",
   "pygments_lexer": "ipython3",
   "version": "3.12.3"
  }
 },
 "nbformat": 4,
 "nbformat_minor": 5
}
